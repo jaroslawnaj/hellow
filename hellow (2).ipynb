{
  "nbformat": 4,
  "nbformat_minor": 0,
  "metadata": {
    "colab": {
      "provenance": []
    },
    "kernelspec": {
      "name": "python3",
      "display_name": "Python 3"
    },
    "language_info": {
      "name": "python"
    }
  },
  "cells": [
    {
      "cell_type": "code",
      "execution_count": null,
      "metadata": {
        "id": "rbQDZTjGyT6q"
      },
      "outputs": [],
      "source": [
        "print('hellow')"
      ]
    },
    {
      "cell_type": "code",
      "source": [
        "print('how r u')"
      ],
      "metadata": {
        "id": "yW-Xy_cTgu1p"
      },
      "execution_count": null,
      "outputs": []
    },
    {
      "cell_type": "code",
      "source": [
        "print('r u lama')"
      ],
      "metadata": {
        "id": "lD9lLU3Fgw04"
      },
      "execution_count": null,
      "outputs": []
    }
  ]
}