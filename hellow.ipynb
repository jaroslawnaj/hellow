{
  "metadata": {
    "kernelspec": {
      "name": "python",
      "display_name": "Python (Pyodide)",
      "language": "python"
    },
    "language_info": {
      "codemirror_mode": {
        "name": "python",
        "version": 3
      },
      "file_extension": ".py",
      "mimetype": "text/x-python",
      "name": "python",
      "nbconvert_exporter": "python",
      "pygments_lexer": "ipython3",
      "version": "3.8"
    },
    "colab": {
      "provenance": []
    }
  },
  "nbformat_minor": 0,
  "nbformat": 4,
  "cells": [
    {
      "cell_type": "code",
      "source": [],
      "metadata": {
        "trusted": true,
        "id": "jYDzHbvLo_tl"
      },
      "outputs": [],
      "execution_count": null
    },
    {
      "cell_type": "code",
      "source": [
        "print('hellow')"
      ],
      "metadata": {
        "trusted": true,
        "id": "cCvFrvBzo_tm",
        "outputId": "4c02b3e5-8648-4b30-c8c5-1a63afa46a17"
      },
      "outputs": [
        {
          "name": "stdout",
          "text": "hellow\n",
          "output_type": "stream"
        }
      ],
      "execution_count": null
    },
    {
      "cell_type": "code",
      "source": [
        "print('heyheyhey')"
      ],
      "metadata": {
        "trusted": true,
        "id": "wUb4T533o_tn"
      },
      "outputs": [],
      "execution_count": null
    }
  ]
}